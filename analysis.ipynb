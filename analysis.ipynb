{
 "cells": [
  {
   "cell_type": "code",
   "execution_count": 2,
   "metadata": {},
   "outputs": [],
   "source": [
    "import backend.algorithms as algo\n",
    "import backend.data_gen as data_gen\n",
    "import numpy as np\n",
    "import matplotlib.pyplot as plt"
   ]
  },
  {
   "cell_type": "code",
   "execution_count": 3,
   "metadata": {},
   "outputs": [],
   "source": [
    "sites = ['111','112','113','121','131']"
   ]
  },
  {
   "cell_type": "code",
   "execution_count": 4,
   "metadata": {},
   "outputs": [],
   "source": [
    "remaining_sites = []\n",
    "data = []\n",
    "for idx, test in enumerate(range(100)):\n",
    "    website_data = list(data_gen.generate_data(20000,sites,0.01,0.1,0.1).values())\n",
    "    remaining_sites.append(algo.succesive_elimination(website_data,20000,0.95))\n",
    "    data.append(website_data)"
   ]
  },
  {
   "cell_type": "code",
   "execution_count": 5,
   "metadata": {},
   "outputs": [],
   "source": [
    "def check_correct_return(all_sites):\n",
    "    current_best_site = None\n",
    "    for site in all_sites.values():\n",
    "        if (current_best_site.p < site.p):\n",
    "            current_best_site = site\n",
    "    \n",
    "def calc_simpel_regret(best_sites,all_sites):\n",
    "    p_max = max(site.p for site in all_sites)\n",
    "    totalregret = 0\n",
    "    for site in best_sites:\n",
    "        totalregret+=(p_max - site.p)\n",
    "    return totalregret"
   ]
  },
  {
   "cell_type": "code",
   "execution_count": 7,
   "metadata": {},
   "outputs": [],
   "source": [
    "remaining_sites_length = []\n",
    "simpel_regret = []\n",
    "simpel_regret_best_only = []\n",
    "for idx, rem in enumerate(remaining_sites):\n",
    "    remaining_sites_length.append(len(rem))\n",
    "    simpel_regret.append(calc_simpel_regret(rem,data[idx]))\n",
    "    simpel_regret_best_only.append(calc_simpel_regret([rem[0]],data[idx]))"
   ]
  },
  {
   "cell_type": "code",
   "execution_count": 9,
   "metadata": {},
   "outputs": [
    {
     "data": {
      "image/png": "[encoded data removed]",
      "text/plain": [
       "<Figure size 432x288 with 1 Axes>"
      ]
     },
     "metadata": {
      "needs_background": "light"
     },
     "output_type": "display_data"
    }
   ],
   "source": [
    "plt.hist(simpel_regret,bins=25);"
   ]
  },
  {
   "cell_type": "code",
   "execution_count": 10,
   "metadata": {},
   "outputs": [
    {
     "data": {
      "image/png": "[encoded data removed]",
      "text/plain": [
       "<Figure size 432x288 with 1 Axes>"
      ]
     },
     "metadata": {
      "needs_background": "light"
     },
     "output_type": "display_data"
    }
   ],
   "source": [
    "plt.hist(simpel_regret_best_only,bins=25);"
   ]
  },
  {
   "cell_type": "code",
   "execution_count": 113,
   "metadata": {},
   "outputs": [
    {
     "data": {
      "image/png": "[encoded data removed]",
      "text/plain": [
       "<Figure size 432x288 with 1 Axes>"
      ]
     },
     "metadata": {
      "needs_background": "light"
     },
     "output_type": "display_data"
    }
   ],
   "source": [
    "plt.hist(remaining_sites_length);"
   ]
  }
 ],
 "metadata": {
  "interpreter": {
   "hash": "abafdf46b5f946ddc9b9fdd5ff870975aa269ce40816beb39ef1910add815a3e"
  },
  "kernelspec": {
   "display_name": "Python 3.9.7 64-bit ('venv': venv)",
   "language": "python",
   "name": "python3"
  },
  "language_info": {
   "codemirror_mode": {
    "name": "ipython",
    "version": 3
   },
   "file_extension": ".py",
   "mimetype": "text/x-python",
   "name": "python",
   "nbconvert_exporter": "python",
   "pygments_lexer": "ipython3",
   "version": "3.9.7"
  },
  "orig_nbformat": 4
 },
 "nbformat": 4,
 "nbformat_minor": 2
}
