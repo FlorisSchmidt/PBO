{
 "cells": [
  {
   "cell_type": "code",
   "execution_count": 60,
   "metadata": {},
   "outputs": [],
   "source": [
    "import backend.algorithms as algo\n",
    "import backend.data_gen as data_gen\n",
    "import numpy as np\n",
    "import matplotlib.pyplot as plt"
   ]
  },
  {
   "cell_type": "code",
   "execution_count": 61,
   "metadata": {},
   "outputs": [],
   "source": [
    "sites_dict = ['111',\n",
    "'112',\n",
    "'113',\n",
    "'121',\n",
    "'122',\n",
    "'123',\n",
    "'131',\n",
    "'132',\n",
    "'133',\n",
    "'211',\n",
    "'212',\n",
    "'213',\n",
    "'221',\n",
    "'222',\n",
    "'223',\n",
    "'231',\n",
    "'232',\n",
    "'233',\n",
    "'311',\n",
    "'312',\n",
    "'313',\n",
    "'321',\n",
    "'322',\n",
    "'323',\n",
    "'331',\n",
    "'332',\n",
    "'333']"
   ]
  },
  {
   "cell_type": "code",
   "execution_count": 68,
   "metadata": {},
   "outputs": [],
   "source": [
    "website_data_5 = list(data_gen.generate_data(20000,sites_dict[:5],-0.5,-0.5,0.05).values())\n",
    "website_data_12 = list(data_gen.generate_data(20000,sites_dict[:12],-0.5,-0.5,0.05).values())\n",
    "website_data_25= list(data_gen.generate_data(20000,sites_dict[:25],-0.5,-0.5,0.05).values())"
   ]
  },
  {
   "cell_type": "code",
   "execution_count": 72,
   "metadata": {},
   "outputs": [
    {
     "name": "stdout",
     "output_type": "stream",
     "text": [
      "0.16898712974176236\n",
      "0.1776995290853592\n",
      "0.08008895276063971\n",
      "0.19011368012676672\n",
      "0.1681461021059721\n",
      "0.2469089201586226\n",
      "0.2285055324812383\n",
      "0.1047346360874024\n",
      "0.24518822087132008\n",
      "0.20971464976081536\n",
      "0.24227340049530924\n",
      "0.15728796851771287\n",
      "0.19462052327578316\n",
      "0.1277566722312285\n",
      "0.20549223251211277\n",
      "0.2142258995611291\n",
      "0.162288018476334\n",
      "0.12787247680818897\n",
      "0.17242534138302507\n",
      "0.1742487937127009\n",
      "0.22769212475004735\n",
      "0.1646256377045268\n",
      "0.15663071936501852\n",
      "0.17678268812826392\n",
      "0.18248532986824134\n"
     ]
    }
   ],
   "source": [
    "for i in website_data_25:\n",
    "    print(i.p)"
   ]
  },
  {
   "cell_type": "code",
   "execution_count": 73,
   "metadata": {},
   "outputs": [],
   "source": [
    "remaining_sites = []\n",
    "data = []\n",
    "for idx, test in enumerate(range(100)):\n",
    "    website_data = list(data_gen.generate_data(20000,sites_dict[:5],0.01,0.1,0.1).values())\n",
    "    remaining_sites.append(algo.succesive_elimination(website_data,20000,0.95))\n",
    "    data.append(website_data)"
   ]
  },
  {
   "cell_type": "code",
   "execution_count": 74,
   "metadata": {},
   "outputs": [],
   "source": [
    "def check_correct_return(all_sites):\n",
    "    current_best_site = None\n",
    "    for site in all_sites.values():\n",
    "        if (current_best_site.p < site.p):\n",
    "            current_best_site = site\n",
    "    \n",
    "def calc_simpel_regret(best_sites,all_sites):\n",
    "    p_max = max(site.p for site in all_sites)\n",
    "    totalregret = 0\n",
    "    for site in best_sites:\n",
    "        totalregret+=(p_max - site.p)\n",
    "    return totalregret"
   ]
  },
  {
   "cell_type": "code",
   "execution_count": 170,
   "metadata": {},
   "outputs": [],
   "source": [
    "website_data = list(data_gen.generate_data(100000,sites_dict[:2],0.01,0.1,0.1).values())"
   ]
  },
  {
   "cell_type": "code",
   "execution_count": 183,
   "metadata": {},
   "outputs": [],
   "source": [
    "def run_website_analysis(number_of_website, budget,website_data):\n",
    "    remaining_sites = []\n",
    "    data = []\n",
    "    for idx in range(100):\n",
    "        for site in website_data:\n",
    "            site.reset()\n",
    "        remaining_sites.append(algo.succesive_elimination(website_data,budget,0.95))\n",
    "        data.append(website_data)\n",
    "       \n",
    "\n",
    "    remaining_sites_length = []\n",
    "    simpel_regret = []\n",
    "    simpel_regret_best_only = []\n",
    "    for idx, rem in enumerate(remaining_sites):\n",
    "        remaining_sites_length.append(len(rem))\n",
    "        simpel_regret.append(calc_simpel_regret(rem,data[idx]))\n",
    "        simpel_regret_best_only.append(calc_simpel_regret([rem[0]],data[idx]))\n",
    "\n",
    "    return simpel_regret,simpel_regret_best_only,remaining_sites_length"
   ]
  },
  {
   "cell_type": "code",
   "execution_count": 195,
   "metadata": {},
   "outputs": [
    {
     "name": "stdout",
     "output_type": "stream",
     "text": [
      "[<backend.data_gen.Website object at 0x7fe6f8a8e6a0>, <backend.data_gen.Website object at 0x7fe6eb77fd90>]\n"
     ]
    }
   ],
   "source": [
    "budget = 1000\n",
    "for site in website_data:\n",
    "    site.reset()\n",
    "hallo = algo.succesive_elimination(website_data, budget, 0.95)\n",
    "print(hallo)"
   ]
  },
  {
   "cell_type": "code",
   "execution_count": 205,
   "metadata": {},
   "outputs": [
    {
     "data": {
      "text/plain": [
       "100000"
      ]
     },
     "execution_count": 205,
     "metadata": {},
     "output_type": "execute_result"
    }
   ],
   "source": [
    "len(website_data[0].realisations)"
   ]
  },
  {
   "cell_type": "code",
   "execution_count": 212,
   "metadata": {},
   "outputs": [
    {
     "ename": "TypeError",
     "evalue": "list indices must be integers or slices, not str",
     "output_type": "error",
     "traceback": [
      "\u001b[0;31m---------------------------------------------------------------------------\u001b[0m",
      "\u001b[0;31mTypeError\u001b[0m                                 Traceback (most recent call last)",
      "\u001b[0;32m/var/folders/p6/vksmx8hn3ysfnwgq9pq63dm40000gn/T/ipykernel_7198/403621714.py\u001b[0m in \u001b[0;36m<module>\u001b[0;34m\u001b[0m\n\u001b[1;32m      2\u001b[0m \u001b[0;32mwhile\u001b[0m \u001b[0;32mTrue\u001b[0m\u001b[0;34m:\u001b[0m\u001b[0;34m\u001b[0m\u001b[0;34m\u001b[0m\u001b[0m\n\u001b[1;32m      3\u001b[0m     \u001b[0;32mfor\u001b[0m \u001b[0msite\u001b[0m \u001b[0;32min\u001b[0m \u001b[0mwebsite_data\u001b[0m\u001b[0;34m:\u001b[0m\u001b[0;34m\u001b[0m\u001b[0;34m\u001b[0m\u001b[0m\n\u001b[0;32m----> 4\u001b[0;31m         \u001b[0msite\u001b[0m\u001b[0;34m.\u001b[0m\u001b[0m__init__\u001b[0m\u001b[0;34m(\u001b[0m\u001b[0msite\u001b[0m\u001b[0;34m.\u001b[0m\u001b[0mname\u001b[0m\u001b[0;34m,\u001b[0m\u001b[0msite\u001b[0m\u001b[0;34m.\u001b[0m\u001b[0mp\u001b[0m\u001b[0;34m,\u001b[0m\u001b[0msite\u001b[0m\u001b[0;34m.\u001b[0m\u001b[0mrealisations\u001b[0m\u001b[0;34m)\u001b[0m\u001b[0;34m\u001b[0m\u001b[0;34m\u001b[0m\u001b[0m\n\u001b[0m\u001b[1;32m      5\u001b[0m     \u001b[0mresult\u001b[0m \u001b[0;34m=\u001b[0m \u001b[0malgo\u001b[0m\u001b[0;34m.\u001b[0m\u001b[0msuccesive_elimination\u001b[0m\u001b[0;34m(\u001b[0m\u001b[0mwebsite_data\u001b[0m\u001b[0;34m,\u001b[0m \u001b[0mbudget\u001b[0m\u001b[0;34m,\u001b[0m \u001b[0;36m0.95\u001b[0m\u001b[0;34m)\u001b[0m\u001b[0;34m\u001b[0m\u001b[0;34m\u001b[0m\u001b[0m\n\u001b[1;32m      6\u001b[0m     \u001b[0;32mif\u001b[0m \u001b[0mlen\u001b[0m\u001b[0;34m(\u001b[0m\u001b[0mresult\u001b[0m\u001b[0;34m)\u001b[0m \u001b[0;34m==\u001b[0m \u001b[0;36m1\u001b[0m\u001b[0;34m:\u001b[0m \u001b[0;32mbreak\u001b[0m\u001b[0;34m\u001b[0m\u001b[0;34m\u001b[0m\u001b[0m\n",
      "\u001b[0;32m~/Dev/PBO/backend/data_gen.py\u001b[0m in \u001b[0;36m__init__\u001b[0;34m(self, website, p, realisations)\u001b[0m\n\u001b[1;32m      9\u001b[0m         \u001b[0mself\u001b[0m\u001b[0;34m.\u001b[0m\u001b[0mnum\u001b[0m \u001b[0;34m=\u001b[0m \u001b[0;36m0\u001b[0m\u001b[0;34m\u001b[0m\u001b[0;34m\u001b[0m\u001b[0m\n\u001b[1;32m     10\u001b[0m         \u001b[0mself\u001b[0m\u001b[0;34m.\u001b[0m\u001b[0mp\u001b[0m \u001b[0;34m=\u001b[0m \u001b[0mp\u001b[0m\u001b[0;34m\u001b[0m\u001b[0;34m\u001b[0m\u001b[0m\n\u001b[0;32m---> 11\u001b[0;31m         \u001b[0mself\u001b[0m\u001b[0;34m.\u001b[0m\u001b[0mrealisations\u001b[0m \u001b[0;34m=\u001b[0m \u001b[0mrealisations\u001b[0m\u001b[0;34m[\u001b[0m\u001b[0mwebsite\u001b[0m\u001b[0;34m]\u001b[0m\u001b[0;34m\u001b[0m\u001b[0;34m\u001b[0m\u001b[0m\n\u001b[0m\u001b[1;32m     12\u001b[0m         \u001b[0mself\u001b[0m\u001b[0;34m.\u001b[0m\u001b[0maverage\u001b[0m \u001b[0;34m=\u001b[0m \u001b[0;36m0\u001b[0m\u001b[0;34m\u001b[0m\u001b[0;34m\u001b[0m\u001b[0m\n\u001b[1;32m     13\u001b[0m         \u001b[0mself\u001b[0m\u001b[0;34m.\u001b[0m\u001b[0mlast_average\u001b[0m \u001b[0;34m=\u001b[0m \u001b[0;36m0\u001b[0m\u001b[0;34m\u001b[0m\u001b[0;34m\u001b[0m\u001b[0m\n",
      "\u001b[0;31mTypeError\u001b[0m: list indices must be integers or slices, not str"
     ]
    }
   ],
   "source": [
    "budget = 100000\n",
    "while True:\n",
    "    for site in website_data:\n",
    "        site.__init__(site.name,site.p,site.realisations)\n",
    "    result = algo.succesive_elimination(website_data, budget, 0.95)\n",
    "    if len(result) == 1: break\n",
    "    budget += 1000\n",
    "print(budget)"
   ]
  },
  {
   "cell_type": "code",
   "execution_count": 188,
   "metadata": {},
   "outputs": [],
   "source": [
    "simpel_regret,simpel_regret_best,remaining_sites = run_website_analysis(2,100000,website_data)"
   ]
  },
  {
   "cell_type": "code",
   "execution_count": 191,
   "metadata": {},
   "outputs": [
    {
     "data": {
      "text/plain": [
       "[0.00956994448170484,\n",
       " 0.00956994448170484,\n",
       " 0.00956994448170484,\n",
       " 0.00956994448170484,\n",
       " 0.00956994448170484,\n",
       " 0.00956994448170484,\n",
       " 0.00956994448170484,\n",
       " 0.00956994448170484,\n",
       " 0.00956994448170484,\n",
       " 0.00956994448170484,\n",
       " 0.00956994448170484,\n",
       " 0.00956994448170484,\n",
       " 0.00956994448170484,\n",
       " 0.00956994448170484,\n",
       " 0.00956994448170484,\n",
       " 0.00956994448170484,\n",
       " 0.00956994448170484,\n",
       " 0.00956994448170484,\n",
       " 0.00956994448170484,\n",
       " 0.00956994448170484,\n",
       " 0.00956994448170484,\n",
       " 0.00956994448170484,\n",
       " 0.00956994448170484,\n",
       " 0.00956994448170484,\n",
       " 0.00956994448170484,\n",
       " 0.00956994448170484,\n",
       " 0.00956994448170484,\n",
       " 0.00956994448170484,\n",
       " 0.00956994448170484,\n",
       " 0.00956994448170484,\n",
       " 0.00956994448170484,\n",
       " 0.00956994448170484,\n",
       " 0.00956994448170484,\n",
       " 0.00956994448170484,\n",
       " 0.00956994448170484,\n",
       " 0.00956994448170484,\n",
       " 0.00956994448170484,\n",
       " 0.00956994448170484,\n",
       " 0.00956994448170484,\n",
       " 0.00956994448170484,\n",
       " 0.00956994448170484,\n",
       " 0.00956994448170484,\n",
       " 0.00956994448170484,\n",
       " 0.00956994448170484,\n",
       " 0.00956994448170484,\n",
       " 0.00956994448170484,\n",
       " 0.00956994448170484,\n",
       " 0.00956994448170484,\n",
       " 0.00956994448170484,\n",
       " 0.00956994448170484,\n",
       " 0.00956994448170484,\n",
       " 0.00956994448170484,\n",
       " 0.00956994448170484,\n",
       " 0.00956994448170484,\n",
       " 0.00956994448170484,\n",
       " 0.00956994448170484,\n",
       " 0.00956994448170484,\n",
       " 0.00956994448170484,\n",
       " 0.00956994448170484,\n",
       " 0.00956994448170484,\n",
       " 0.00956994448170484,\n",
       " 0.00956994448170484,\n",
       " 0.00956994448170484,\n",
       " 0.00956994448170484,\n",
       " 0.00956994448170484,\n",
       " 0.00956994448170484,\n",
       " 0.00956994448170484,\n",
       " 0.00956994448170484,\n",
       " 0.00956994448170484,\n",
       " 0.00956994448170484,\n",
       " 0.00956994448170484,\n",
       " 0.00956994448170484,\n",
       " 0.00956994448170484,\n",
       " 0.00956994448170484,\n",
       " 0.00956994448170484,\n",
       " 0.00956994448170484,\n",
       " 0.00956994448170484,\n",
       " 0.00956994448170484,\n",
       " 0.00956994448170484,\n",
       " 0.00956994448170484,\n",
       " 0.00956994448170484,\n",
       " 0.00956994448170484,\n",
       " 0.00956994448170484,\n",
       " 0.00956994448170484,\n",
       " 0.00956994448170484,\n",
       " 0.00956994448170484,\n",
       " 0.00956994448170484,\n",
       " 0.00956994448170484,\n",
       " 0.00956994448170484,\n",
       " 0.00956994448170484,\n",
       " 0.00956994448170484,\n",
       " 0.00956994448170484,\n",
       " 0.00956994448170484,\n",
       " 0.00956994448170484,\n",
       " 0.00956994448170484,\n",
       " 0.00956994448170484,\n",
       " 0.00956994448170484,\n",
       " 0.00956994448170484,\n",
       " 0.00956994448170484,\n",
       " 0.00956994448170484]"
      ]
     },
     "execution_count": 191,
     "metadata": {},
     "output_type": "execute_result"
    }
   ],
   "source": [
    "simpel_regret"
   ]
  },
  {
   "cell_type": "code",
   "execution_count": 168,
   "metadata": {},
   "outputs": [
    {
     "data": {
      "text/plain": [
       "68"
      ]
     },
     "execution_count": 168,
     "metadata": {},
     "output_type": "execute_result"
    }
   ],
   "source": [
    "simpel_regret_5_80000.count(0)"
   ]
  },
  {
   "cell_type": "code",
   "execution_count": 169,
   "metadata": {},
   "outputs": [
    {
     "ename": "KeyboardInterrupt",
     "evalue": "",
     "output_type": "error",
     "traceback": [
      "\u001b[0;31m---------------------------------------------------------------------------\u001b[0m",
      "\u001b[0;31mKeyboardInterrupt\u001b[0m                         Traceback (most recent call last)",
      "\u001b[0;32m/var/folders/p6/vksmx8hn3ysfnwgq9pq63dm40000gn/T/ipykernel_7198/3718802492.py\u001b[0m in \u001b[0;36m<module>\u001b[0;34m\u001b[0m\n\u001b[0;32m----> 1\u001b[0;31m \u001b[0ma\u001b[0m \u001b[0;34m=\u001b[0m \u001b[0mrun_website_analysis\u001b[0m\u001b[0;34m(\u001b[0m\u001b[0;36m2\u001b[0m\u001b[0;34m,\u001b[0m\u001b[0;36m100000\u001b[0m\u001b[0;34m)\u001b[0m\u001b[0;34m\u001b[0m\u001b[0;34m\u001b[0m\u001b[0m\n\u001b[0m",
      "\u001b[0;32m/var/folders/p6/vksmx8hn3ysfnwgq9pq63dm40000gn/T/ipykernel_7198/667856431.py\u001b[0m in \u001b[0;36mrun_website_analysis\u001b[0;34m(number_of_website, budget)\u001b[0m\n\u001b[1;32m      3\u001b[0m     \u001b[0mdata\u001b[0m \u001b[0;34m=\u001b[0m \u001b[0;34m[\u001b[0m\u001b[0;34m]\u001b[0m\u001b[0;34m\u001b[0m\u001b[0;34m\u001b[0m\u001b[0m\n\u001b[1;32m      4\u001b[0m     \u001b[0;32mfor\u001b[0m \u001b[0midx\u001b[0m \u001b[0;32min\u001b[0m \u001b[0mrange\u001b[0m\u001b[0;34m(\u001b[0m\u001b[0;36m100\u001b[0m\u001b[0;34m)\u001b[0m\u001b[0;34m:\u001b[0m\u001b[0;34m\u001b[0m\u001b[0;34m\u001b[0m\u001b[0m\n\u001b[0;32m----> 5\u001b[0;31m         \u001b[0mwebsite_data\u001b[0m \u001b[0;34m=\u001b[0m \u001b[0mlist\u001b[0m\u001b[0;34m(\u001b[0m\u001b[0mdata_gen\u001b[0m\u001b[0;34m.\u001b[0m\u001b[0mgenerate_data\u001b[0m\u001b[0;34m(\u001b[0m\u001b[0mbudget\u001b[0m\u001b[0;34m,\u001b[0m\u001b[0msites_dict\u001b[0m\u001b[0;34m[\u001b[0m\u001b[0;34m:\u001b[0m\u001b[0mnumber_of_website\u001b[0m\u001b[0;34m]\u001b[0m\u001b[0;34m,\u001b[0m\u001b[0;36m0.01\u001b[0m\u001b[0;34m,\u001b[0m\u001b[0;36m0.1\u001b[0m\u001b[0;34m,\u001b[0m\u001b[0;36m0.1\u001b[0m\u001b[0;34m)\u001b[0m\u001b[0;34m.\u001b[0m\u001b[0mvalues\u001b[0m\u001b[0;34m(\u001b[0m\u001b[0;34m)\u001b[0m\u001b[0;34m)\u001b[0m\u001b[0;34m\u001b[0m\u001b[0;34m\u001b[0m\u001b[0m\n\u001b[0m\u001b[1;32m      6\u001b[0m         \u001b[0mremaining_sites\u001b[0m\u001b[0;34m.\u001b[0m\u001b[0mappend\u001b[0m\u001b[0;34m(\u001b[0m\u001b[0malgo\u001b[0m\u001b[0;34m.\u001b[0m\u001b[0msuccesive_elimination\u001b[0m\u001b[0;34m(\u001b[0m\u001b[0mwebsite_data\u001b[0m\u001b[0;34m,\u001b[0m\u001b[0mbudget\u001b[0m\u001b[0;34m,\u001b[0m\u001b[0;36m0.95\u001b[0m\u001b[0;34m)\u001b[0m\u001b[0;34m)\u001b[0m\u001b[0;34m\u001b[0m\u001b[0;34m\u001b[0m\u001b[0m\n\u001b[1;32m      7\u001b[0m         \u001b[0mdata\u001b[0m\u001b[0;34m.\u001b[0m\u001b[0mappend\u001b[0m\u001b[0;34m(\u001b[0m\u001b[0mwebsite_data\u001b[0m\u001b[0;34m)\u001b[0m\u001b[0;34m\u001b[0m\u001b[0;34m\u001b[0m\u001b[0m\n",
      "\u001b[0;32m~/Dev/PBO/backend/data_gen.py\u001b[0m in \u001b[0;36mgenerate_data\u001b[0;34m(budget, website_list, effect_A, effect_B, normal_sd)\u001b[0m\n\u001b[1;32m     54\u001b[0m         synegestic_probs[prob] = _generate_synergestic_effect_(\n\u001b[1;32m     55\u001b[0m             interaction_probs[prob], normal_sd)\n\u001b[0;32m---> 56\u001b[0;31m     \u001b[0mrealisations\u001b[0m \u001b[0;34m=\u001b[0m \u001b[0m_generate_realisations_\u001b[0m\u001b[0;34m(\u001b[0m\u001b[0mbudget\u001b[0m\u001b[0;34m,\u001b[0m \u001b[0msynegestic_probs\u001b[0m\u001b[0;34m)\u001b[0m\u001b[0;34m\u001b[0m\u001b[0;34m\u001b[0m\u001b[0m\n\u001b[0m\u001b[1;32m     57\u001b[0m     \u001b[0mfinal_data\u001b[0m \u001b[0;34m=\u001b[0m \u001b[0m_select_data_\u001b[0m\u001b[0;34m(\u001b[0m\u001b[0mwebsite_list\u001b[0m\u001b[0;34m,\u001b[0m \u001b[0mrealisations\u001b[0m\u001b[0;34m)\u001b[0m\u001b[0;34m\u001b[0m\u001b[0;34m\u001b[0m\u001b[0m\n\u001b[1;32m     58\u001b[0m     \u001b[0mwebsites\u001b[0m \u001b[0;34m=\u001b[0m \u001b[0mdict\u001b[0m\u001b[0;34m(\u001b[0m\u001b[0;34m)\u001b[0m\u001b[0;34m\u001b[0m\u001b[0;34m\u001b[0m\u001b[0m\n",
      "\u001b[0;32m~/Dev/PBO/backend/data_gen.py\u001b[0m in \u001b[0;36m_generate_realisations_\u001b[0;34m(budget, probabilities)\u001b[0m\n\u001b[1;32m    106\u001b[0m         \u001b[0msite_data\u001b[0m \u001b[0;34m=\u001b[0m \u001b[0;34m[\u001b[0m\u001b[0;34m]\u001b[0m\u001b[0;34m\u001b[0m\u001b[0;34m\u001b[0m\u001b[0m\n\u001b[1;32m    107\u001b[0m         \u001b[0;32mfor\u001b[0m \u001b[0mi\u001b[0m \u001b[0;32min\u001b[0m \u001b[0mrange\u001b[0m\u001b[0;34m(\u001b[0m\u001b[0mbudget\u001b[0m\u001b[0;34m)\u001b[0m\u001b[0;34m:\u001b[0m\u001b[0;34m\u001b[0m\u001b[0;34m\u001b[0m\u001b[0m\n\u001b[0;32m--> 108\u001b[0;31m             \u001b[0msite_data\u001b[0m\u001b[0;34m.\u001b[0m\u001b[0mappend\u001b[0m\u001b[0;34m(\u001b[0m\u001b[0mnp\u001b[0m\u001b[0;34m.\u001b[0m\u001b[0mrandom\u001b[0m\u001b[0;34m.\u001b[0m\u001b[0mbinomial\u001b[0m\u001b[0;34m(\u001b[0m\u001b[0;36m1\u001b[0m\u001b[0;34m,\u001b[0m \u001b[0mprobabilities\u001b[0m\u001b[0;34m[\u001b[0m\u001b[0mwebsite\u001b[0m\u001b[0;34m]\u001b[0m\u001b[0;34m)\u001b[0m\u001b[0;34m)\u001b[0m\u001b[0;34m\u001b[0m\u001b[0;34m\u001b[0m\u001b[0m\n\u001b[0m\u001b[1;32m    109\u001b[0m         \u001b[0mrealisations\u001b[0m\u001b[0;34m[\u001b[0m\u001b[0mwebsite\u001b[0m\u001b[0;34m]\u001b[0m \u001b[0;34m=\u001b[0m \u001b[0msite_data\u001b[0m\u001b[0;34m\u001b[0m\u001b[0;34m\u001b[0m\u001b[0m\n\u001b[1;32m    110\u001b[0m     \u001b[0;32mreturn\u001b[0m \u001b[0mrealisations\u001b[0m\u001b[0;34m\u001b[0m\u001b[0;34m\u001b[0m\u001b[0m\n",
      "\u001b[0;31mKeyboardInterrupt\u001b[0m: "
     ]
    }
   ],
   "source": [
    "a = run_website_analysis(2,100000)"
   ]
  },
  {
   "cell_type": "code",
   "execution_count": 99,
   "metadata": {},
   "outputs": [],
   "source": [
    "simpel_regret_5_10000,simpel_regret_best_only_5_10000,remaining_sites_length_5_10000 = run_website_analysis(5,10000)\n",
    "simpel_regret_5_20000,simpel_regret_best_only_5_20000,remaining_sites_length_5_20000 = run_website_analysis(5,20000)\n",
    "simpel_regret_5_40000,simpel_regret_best_only_5_40000,remaining_sites_length_5_40000 = run_website_analysis(5,40000)\n",
    "simpel_regret_5_80000,simpel_regret_best_only_5_80000,remaining_sites_length_5_80000 = run_website_analysis(5,80000)"
   ]
  },
  {
   "cell_type": "code",
   "execution_count": 161,
   "metadata": {},
   "outputs": [
    {
     "data": {
      "text/plain": [
       "[0.0,\n",
       " 0.0,\n",
       " 0.0,\n",
       " 0.0,\n",
       " 0.0,\n",
       " 0.0,\n",
       " 0.0011448036432151198,\n",
       " 0.0,\n",
       " 0.0,\n",
       " 0.0,\n",
       " 0.0,\n",
       " 0.0,\n",
       " 0.01278694251431356,\n",
       " 0.0,\n",
       " 0.0,\n",
       " 0.0,\n",
       " 0.0,\n",
       " 0.01753378798505234,\n",
       " 0.02696524349172502,\n",
       " 0.0,\n",
       " 0.0,\n",
       " 0.0,\n",
       " 0.0,\n",
       " 0.0,\n",
       " 0.0,\n",
       " 0.0,\n",
       " 0.0,\n",
       " 0.0,\n",
       " 0.0,\n",
       " 0.0,\n",
       " 0.0,\n",
       " 0.0,\n",
       " 0.0,\n",
       " 0.0,\n",
       " 0.026348750705275426,\n",
       " 0.0,\n",
       " 0.0,\n",
       " 0.0,\n",
       " 0.0,\n",
       " 0.0,\n",
       " 0.0,\n",
       " 0.0,\n",
       " 0.0,\n",
       " 0.0,\n",
       " 0.0,\n",
       " 0.0,\n",
       " 0.0,\n",
       " 0.0,\n",
       " 0.0,\n",
       " 0.0,\n",
       " 0.0,\n",
       " 0.0,\n",
       " 0.0,\n",
       " 0.0,\n",
       " 0.0,\n",
       " 0.0,\n",
       " 0.0,\n",
       " 0.0,\n",
       " 0.0,\n",
       " 0.0,\n",
       " 0.0013655400702434761,\n",
       " 0.0,\n",
       " 0.011042451663491937,\n",
       " 0.0,\n",
       " 0.0,\n",
       " 0.0,\n",
       " 0.03757569756586987,\n",
       " 0.0,\n",
       " 0.0,\n",
       " 0.0,\n",
       " 0.0,\n",
       " 0.0,\n",
       " 0.0,\n",
       " 0.0,\n",
       " 0.0,\n",
       " 0.0,\n",
       " 0.0,\n",
       " 0.0,\n",
       " 0.0,\n",
       " 0.0,\n",
       " 0.0,\n",
       " 0.0,\n",
       " 0.030759153279771967,\n",
       " 0.0,\n",
       " 0.0,\n",
       " 0.03367894047463105,\n",
       " 0.0,\n",
       " 0.0,\n",
       " 0.0,\n",
       " 0.0,\n",
       " 0.004615584247046445,\n",
       " 0.0,\n",
       " 0.008924414908352496,\n",
       " 0.0,\n",
       " 0.0,\n",
       " 0.0,\n",
       " 0.0,\n",
       " 0.0,\n",
       " 0.00579612406855734,\n",
       " 0.0]"
      ]
     },
     "execution_count": 161,
     "metadata": {},
     "output_type": "execute_result"
    }
   ],
   "source": [
    "simpel_regret_best_only_5_80000"
   ]
  },
  {
   "cell_type": "code",
   "execution_count": 214,
   "metadata": {},
   "outputs": [
    {
     "data": {
      "text/plain": [
       "Text(0, 0.5, 'Number of website groups')"
      ]
     },
     "execution_count": 214,
     "metadata": {},
     "output_type": "execute_result"
    },
    {
     "data": {
      "image/png": "[encoded data removed]",
      "text/plain": [
       "<Figure size 600x400 with 1 Axes>"
      ]
     },
     "metadata": {
      "needs_background": "light"
     },
     "output_type": "display_data"
    }
   ],
   "source": [
    "plt.figure(dpi=100)\n",
    "plt.hist(simpel_regret_5_10000,label = 'Budget 10k',alpha = 0.7)\n",
    "plt.hist(simpel_regret_5_20000,label = 'Budget 20k',alpha = 0.7)\n",
    "plt.hist(simpel_regret_5_40000,label = 'Budget 40k',alpha = 0.7)\n",
    "plt.hist(simpel_regret_5_80000,label = 'Budget 80k',alpha = 0.7)\n",
    "plt.legend()\n",
    "plt.title('Simpel regret with 5 websites')\n",
    "plt.xlabel('Regret')\n",
    "plt.ylabel('Number of website groups')"
   ]
  },
  {
   "cell_type": "code",
   "execution_count": 217,
   "metadata": {},
   "outputs": [
    {
     "data": {
      "text/plain": [
       "68"
      ]
     },
     "execution_count": 217,
     "metadata": {},
     "output_type": "execute_result"
    }
   ],
   "source": [
    "simpel_regret_5_80000.count(0)"
   ]
  },
  {
   "cell_type": "code",
   "execution_count": 219,
   "metadata": {},
   "outputs": [
    {
     "data": {
      "text/plain": [
       "[<matplotlib.lines.Line2D at 0x7fe6c95b2b80>]"
      ]
     },
     "execution_count": 219,
     "metadata": {},
     "output_type": "execute_result"
    },
    {
     "data": {
      "image/png": "[encoded data removed]",
      "text/plain": [
       "<Figure size 432x288 with 1 Axes>"
      ]
     },
     "metadata": {
      "needs_background": "light"
     },
     "output_type": "display_data"
    }
   ],
   "source": [
    "import plotly.graph_objects as go\n",
    "\n",
    "a = [simpel_regret_5_10000.count(0),simpel_regret_5_20000.count(0),simpel_regret_5_40000.count(0),simpel_regret_5_80000.count(0)]\n",
    "plt.plot(a)"
   ]
  },
  {
   "cell_type": "code",
   "execution_count": 125,
   "metadata": {},
   "outputs": [],
   "source": [
    "import plotly"
   ]
  },
  {
   "cell_type": "code",
   "execution_count": 127,
   "metadata": {},
   "outputs": [],
   "source": [
    "import pandas as pd\n",
    "import plotly.express as px\n",
    "import plotly.graph_objects as go\n",
    "import numpy as np"
   ]
  },
  {
   "cell_type": "code",
   "execution_count": 124,
   "metadata": {},
   "outputs": [
    {
     "data": {
      "text/plain": [
       "Text(0, 0.5, 'Number of website groups')"
      ]
     },
     "execution_count": 124,
     "metadata": {},
     "output_type": "execute_result"
    },
    {
     "data": {
      "image/png": "[encoded data removed]",
      "text/plain": [
       "<Figure size 432x288 with 1 Axes>"
      ]
     },
     "metadata": {
      "needs_background": "light"
     },
     "output_type": "display_data"
    }
   ],
   "source": [
    "plt.hist(remaining_sites_length_5_10000,label = 'Budget 10k',alpha = 0.7)\n",
    "plt.hist(remaining_sites_length_5_20000,label = 'Budget 20k',alpha = 0.7)\n",
    "plt.hist(remaining_sites_length_5_40000,label = 'Budget 40k',alpha = 0.7)\n",
    "plt.legend()\n",
    "plt.title('Simpel regret')\n",
    "plt.xlabel('Regret')\n",
    "plt.ylabel('Number of website groups')"
   ]
  },
  {
   "cell_type": "code",
   "execution_count": null,
   "metadata": {},
   "outputs": [],
   "source": []
  }
 ],
 "metadata": {
  "interpreter": {
   "hash": "abafdf46b5f946ddc9b9fdd5ff870975aa269ce40816beb39ef1910add815a3e"
  },
  "kernelspec": {
   "display_name": "Python 3.9.7 64-bit ('venv': venv)",
   "language": "python",
   "name": "python3"
  },
  "language_info": {
   "codemirror_mode": {
    "name": "ipython",
    "version": 3
   },
   "file_extension": ".py",
   "mimetype": "text/x-python",
   "name": "python",
   "nbconvert_exporter": "python",
   "pygments_lexer": "ipython3",
   "version": "3.9.7"
  },
  "orig_nbformat": 4
 },
 "nbformat": 4,
 "nbformat_minor": 2
}
