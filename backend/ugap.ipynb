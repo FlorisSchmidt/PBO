{
 "cells": [
  {
   "cell_type": "code",
   "execution_count": 85,
   "metadata": {},
   "outputs": [],
   "source": [
    "import data_gen as gen\n",
    "from typing import List\n",
    "from math import sqrt, log, pow, inf"
   ]
  },
  {
   "cell_type": "code",
   "execution_count": 392,
   "metadata": {},
   "outputs": [],
   "source": [
    "budget = 50000\n",
    "website_list = [\"111\",\"112\",\"113\"]\n",
    "data = gen.generate_data(budget, website_list, 0.1, 0.3, 0.01)\n",
    "print(sum(data['111'].realisations))\n",
    "print(sum(data['111'].realisations))\n",
    "print(sum(data['111'].realisations))"
   ]
  },
  {
   "cell_type": "code",
   "execution_count": 87,
   "metadata": {},
   "outputs": [
    {
     "data": {
      "text/plain": [
       "[<data_gen.Website at 0x111790af0>, <data_gen.Website at 0x110e0ff70>]"
      ]
     },
     "execution_count": 87,
     "metadata": {},
     "output_type": "execute_result"
    }
   ],
   "source": [
    "current_arms = [data[arm_name] for arm_name in data.keys()]\n",
    "current_arms\n"
   ]
  },
  {
   "cell_type": "code",
   "execution_count": 88,
   "metadata": {},
   "outputs": [],
   "source": [
    "def select_arm_eb(current_arms, a, t):\n",
    "    ukt_dict = dict()\n",
    "    lkt_dict = dict()\n",
    "    for k in current_arms:\n",
    "        ukt = k.last_average + calc_beta(k, a, t)\n",
    "        lkt = k.last_average - calc_beta(k, a, t)\n",
    "        ukt_dict[k] = ukt\n",
    "        lkt_dict[k] = lkt\n",
    "    max_ukt = max(ukt_dict, key=ukt_dict.get)\n",
    "    pass"
   ]
  },
  {
   "cell_type": "code",
   "execution_count": 7,
   "metadata": {},
   "outputs": [],
   "source": [
    "def calc_beta(arm, a):\n",
    "    return sqrt(a/arm.num)"
   ]
  },
  {
   "cell_type": "code",
   "execution_count": 89,
   "metadata": {},
   "outputs": [],
   "source": [
    "def get_max_key(input_dict,keys):\n",
    "    new_dict = dict()\n",
    "    for item in keys:\n",
    "        new_dict[item] = input_dict[item]\n",
    "    return max(new_dict, key=new_dict.get)\n",
    "\n",
    "\n",
    "def get_min_key(input_dict, keys):\n",
    "    new_dict = dict()\n",
    "    for item in keys:\n",
    "        new_dict[item] = input_dict[item]\n",
    "    return min(new_dict, key=new_dict.get)\n"
   ]
  },
  {
   "cell_type": "code",
   "execution_count": 608,
   "metadata": {},
   "outputs": [],
   "source": [
    "def select_arm(current_arms, m, a):   \n",
    "    current_arms = [data[arm_name] for arm_name in data.keys()]\n",
    "    for arm in current_arms:\n",
    "        arm.pull()\n",
    "    ukt_dict = dict()\n",
    "    lkt_dict = dict()\n",
    "    bkt_dict = dict()\n",
    "    beta_dict = dict()\n",
    "    # Compute Uk(t) and Lk(t) for each arm\n",
    "    for k in current_arms:\n",
    "        beta_dict[k] = calc_beta(k, a)\n",
    "        ukt = k.last_average + beta_dict[k]\n",
    "        lkt = k.last_average - beta_dict[k]\n",
    "        ukt_dict[k] = ukt\n",
    "        lkt_dict[k] = lkt\n",
    "    # Compute Bk(t) for each arm\n",
    "    for k in current_arms:\n",
    "        ukt_dict_subset = ukt_dict.copy()\n",
    "        ukt_dict_subset.pop(k)\n",
    "        max_ukt = max(ukt_dict_subset, key=ukt_dict_subset.get)\n",
    "        bkt = ukt_dict[max_ukt] - lkt_dict[k]\n",
    "        bkt_dict[k] = bkt\n",
    "\n",
    "    # Identify the set of m arms J(t)\n",
    "    bkt_dict_sorted = dict(sorted(bkt_dict.items(), key=lambda item: item[1]))\n",
    "    Jt = set(list(bkt_dict_sorted.keys())[:m])\n",
    "    print([x.name for x in Jt])\n",
    "\n",
    "    # Identify arm with minimum lower bound in J(t)\n",
    "    lowest = inf\n",
    "    contenders = []\n",
    "    for arm in Jt:\n",
    "        if lkt_dict[arm] <= lowest:\n",
    "            contenders.append(arm)\n",
    "    if len(contenders) > 1:\n",
    "        lower = get_min_key(beta_dict, contenders)\n",
    "    else:\n",
    "        lower = contenders[0]\n",
    "    # Identify arm with maximum upper bound *not* in J(t)\n",
    "    not_in_jt = list(set(ukt_dict.keys()) - Jt)\n",
    "    highest = -inf\n",
    "    contenders = []\n",
    "    for arm in not_in_jt:\n",
    "        if ukt_dict[arm] >= highest:\n",
    "            contenders.append(arm)\n",
    "    if len(contenders) > 1:\n",
    "        upper = get_max_key(beta_dict, contenders)\n",
    "    else:\n",
    "        upper = contenders[0]\n",
    "    # Identify and pull arm I(t)\n",
    "    keyz = [lower, upper]\n",
    "    It = get_max_key(beta_dict, keyz)\n",
    "    It.pull()\n",
    "    return Jt, bkt_dict\n"
   ]
  },
  {
   "cell_type": "markdown",
   "metadata": {},
   "source": []
  },
  {
   "cell_type": "code",
   "execution_count": 610,
   "metadata": {},
   "outputs": [
    {
     "name": "stdout",
     "output_type": "stream",
     "text": [
      "30121\n",
      "32003\n",
      "36340\n"
     ]
    }
   ],
   "source": [
    "budget = 50000\n",
    "website_list = [\"111\", \"112\", \"113\"]\n",
    "data = gen.generate_data(budget, website_list, 0.1, 0.3, 0.1)\n",
    "print(sum(data['111'].realisations))\n",
    "print(sum(data['112'].realisations))\n",
    "print(sum(data['113'].realisations))"
   ]
  },
  {
   "cell_type": "code",
   "execution_count": 609,
   "metadata": {},
   "outputs": [
    {
     "name": "stdout",
     "output_type": "stream",
     "text": [
      "['111', '112']\n",
      "['111', '112']\n",
      "['111', '112']\n",
      "['111', '112']\n",
      "['111', '112']\n",
      "['111', '112']\n",
      "['111', '112']\n",
      "['111', '112']\n",
      "['111', '112']\n",
      "['111', '112']\n",
      "['111', '112']\n",
      "['111', '112']\n",
      "['111', '112']\n",
      "['111', '112']\n",
      "['111', '112']\n",
      "['111', '112']\n",
      "['111', '112']\n",
      "['111', '112']\n",
      "['111', '112']\n",
      "['111', '112']\n",
      "['111', '112']\n",
      "['111', '112']\n",
      "['111', '112']\n",
      "['111', '112']\n",
      "['111', '112']\n",
      "['111', '112']\n",
      "['111', '112']\n",
      "['111', '112']\n",
      "['111', '112']\n",
      "['111', '112']\n",
      "['111', '112']\n",
      "['111', '112']\n",
      "['111', '112']\n",
      "['111', '112']\n",
      "['111', '112']\n",
      "['111', '112']\n",
      "['111', '112']\n",
      "['111', '112']\n",
      "['111', '112']\n",
      "['111', '112']\n",
      "['111', '112']\n",
      "['111', '112']\n",
      "['111', '112']\n",
      "['111', '112']\n",
      "['111', '112']\n",
      "['111', '112']\n",
      "['111', '112']\n",
      "['111', '112']\n",
      "['111', '112']\n",
      "['111', '112']\n",
      "['111', '112']\n",
      "['111', '112']\n",
      "['111', '112']\n",
      "['111', '112']\n",
      "['111', '112']\n",
      "['111', '112']\n",
      "['111', '112']\n",
      "['111', '112']\n",
      "['111', '112']\n",
      "['111', '112']\n",
      "['111', '112']\n",
      "['111', '112']\n",
      "['111', '112']\n",
      "['111', '112']\n",
      "['111', '112']\n",
      "['111', '112']\n",
      "['111', '112']\n",
      "['111', '112']\n",
      "['111', '112']\n",
      "['111', '112']\n",
      "['111', '112']\n",
      "['111', '112']\n",
      "['111', '112']\n",
      "['111', '112']\n",
      "['111', '112']\n",
      "['111', '112']\n",
      "['111', '112']\n",
      "['111', '112']\n",
      "['111', '112']\n",
      "['111', '112']\n",
      "['111', '112']\n",
      "['111', '112']\n",
      "['111', '112']\n",
      "['111', '112']\n",
      "['111', '112']\n",
      "['111', '112']\n",
      "['111', '112']\n",
      "['111', '112']\n",
      "['111', '112']\n",
      "['111', '112']\n",
      "['111', '112']\n",
      "['111', '112']\n",
      "['111', '112']\n",
      "['111', '112']\n",
      "['111', '112']\n",
      "['111', '112']\n",
      "111\n",
      "website: 111, num: 1017, average: 0.7394296951819076\n",
      "website: 112, num: 682, average: 0.6627565982404692\n",
      "website: 113, num: 1016, average: 0.6072834645669292\n"
     ]
    }
   ],
   "source": [
    "def UGapEb(data, m, budget, a):\n",
    "    K = len(data)\n",
    "    ## Initialise\n",
    "    for arm_name in data.keys():\n",
    "        data[arm_name].pull()\n",
    "    ## Main loop\n",
    "    Jt = ''\n",
    "    bkt_dict = ''\n",
    "    for t in range(K+1,budget):\n",
    "        current_arms = [data[arm_name] for arm_name in data.keys()]\n",
    "        Jt, bkt_dict = select_arm(current_arms, m, a)\n",
    "    return get_min_key(bkt_dict, Jt)\n",
    "    \n",
    "print(UGapEb(data, 2, 100, 0.1).name)\n",
    "\n",
    "for website in data.keys():\n",
    "    print(\n",
    "        f'website: {data[website].name}, num: {data[website].num}, average: {data[website].average}')\n"
   ]
  }
 ],
 "metadata": {
  "interpreter": {
   "hash": "b0fa6594d8f4cbf19f97940f81e996739fb7646882a419484c72d19e05852a7e"
  },
  "kernelspec": {
   "display_name": "Python 3.9.9 64-bit",
   "language": "python",
   "name": "python3"
  },
  "language_info": {
   "codemirror_mode": {
    "name": "ipython",
    "version": 3
   },
   "file_extension": ".py",
   "mimetype": "text/x-python",
   "name": "python",
   "nbconvert_exporter": "python",
   "pygments_lexer": "ipython3",
   "version": "3.9.9"
  },
  "orig_nbformat": 4
 },
 "nbformat": 4,
 "nbformat_minor": 2
}
