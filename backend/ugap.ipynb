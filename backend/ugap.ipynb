{
 "cells": [
  {
   "cell_type": "code",
   "execution_count": 1,
   "metadata": {},
   "outputs": [],
   "source": [
    "import data_gen as gen\n",
    "from typing import List\n",
    "from math import sqrt, log, pow, inf"
   ]
  },
  {
   "cell_type": "code",
   "execution_count": 25,
   "metadata": {},
   "outputs": [
    {
     "data": {
      "text/plain": [
       "{'111': <data_gen.Website at 0x7f9d789c0c10>,\n",
       " '112': <data_gen.Website at 0x7f9d789a8190>,\n",
       " '113': <data_gen.Website at 0x7f9d7a7e0b20>}"
      ]
     },
     "execution_count": 25,
     "metadata": {},
     "output_type": "execute_result"
    }
   ],
   "source": [
    "budget = 50000\n",
    "website_list = [\"111\",\"112\",\"113\"]\n",
    "data = gen.generate_data(budget, website_list, 0.1, 0.3, 0.01)\n",
    "data\n"
   ]
  },
  {
   "cell_type": "code",
   "execution_count": 26,
   "metadata": {},
   "outputs": [
    {
     "name": "stdout",
     "output_type": "stream",
     "text": [
      "31820\n",
      "28646\n",
      "32008\n"
     ]
    }
   ],
   "source": [
    "arms = [data[arm_name] for arm_name in data.keys()]\n",
    "print(sum(arms[0].realisations))\n",
    "print(sum(arms[1].realisations))\n",
    "print(sum(arms[2].realisations))"
   ]
  },
  {
   "cell_type": "code",
   "execution_count": 18,
   "metadata": {},
   "outputs": [],
   "source": [
    "def calc_beta(arm, a):\n",
    "    return sqrt(a/arm.num)"
   ]
  },
  {
   "cell_type": "code",
   "execution_count": 19,
   "metadata": {},
   "outputs": [],
   "source": [
    "def get_max_key(input_dict,keys):\n",
    "    new_dict = dict()\n",
    "    for item in keys:\n",
    "        new_dict[item] = input_dict[item]\n",
    "    return max(new_dict, key=new_dict.get)\n",
    "\n",
    "\n",
    "def get_min_key(input_dict, keys):\n",
    "    new_dict = dict()\n",
    "    for item in keys:\n",
    "        new_dict[item] = input_dict[item]\n",
    "    return min(new_dict, key=new_dict.get)\n"
   ]
  },
  {
   "cell_type": "code",
   "execution_count": 27,
   "metadata": {},
   "outputs": [],
   "source": [
    "def select_arm(current_arms, m, a):   \n",
    "    current_arms = [data[arm_name] for arm_name in data.keys()]\n",
    "    for arm in current_arms:\n",
    "        arm.pull()\n",
    "    ukt_dict = dict()\n",
    "    lkt_dict = dict()\n",
    "    bkt_dict = dict()\n",
    "    beta_dict = dict()\n",
    "    # Compute Uk(t) and Lk(t) for each arm\\n\",\n",
    "    for k in current_arms:\n",
    "        beta_dict[k] = calc_beta(k, a)\n",
    "        ukt = k.last_average + beta_dict[k]\n",
    "        lkt = k.last_average - beta_dict[k]\n",
    "        ukt_dict[k] = ukt\n",
    "        lkt_dict[k] = lkt\n",
    "    # Compute Bk(t) for each arm\\n\",\n",
    "    for k in current_arms:\n",
    "        ukt_dict_subset = ukt_dict.copy()\n",
    "        ukt_dict_subset.pop(k)\n",
    "        max_ukt = max(ukt_dict_subset, key=ukt_dict_subset.get)\n",
    "        bkt = ukt_dict[max_ukt] - lkt_dict[k]\n",
    "        bkt_dict[k] = bkt\n",
    "\n",
    "    # Identify the set of m arms J(t)\\n\",\n",
    "    bkt_dict_sorted = dict(sorted(bkt_dict.items(), key=lambda item: item[1]))\n",
    "    Jt = set(list(bkt_dict_sorted.keys())[:m])\n",
    "\n",
    "    # Identify arm with minimum lower bound in J(t)\\n\",\n",
    "    lowest = inf\n",
    "    contenders = []\n",
    "    for arm in Jt:\n",
    "        if lkt_dict[arm] <= lowest:\n",
    "            contenders.append(arm)\n",
    "    if len(contenders) > 1:\n",
    "        lower = get_min_key(beta_dict, contenders)\n",
    "    else:\n",
    "        lower = contenders[0]\n",
    "    # Identify arm with maximum upper bound *not* in J(t)\\n\",\n",
    "    not_in_jt = list(set(ukt_dict.keys()) - Jt)\n",
    "    highest = -inf\n",
    "    contenders = []\n",
    "    for arm in not_in_jt:\n",
    "        if ukt_dict[arm] >= highest:\n",
    "            contenders.append(arm)\n",
    "    if len(contenders) > 1:\n",
    "        upper = get_max_key(beta_dict, contenders)\n",
    "    else:\n",
    "        upper = contenders[0]\n",
    "    # Identify and pull arm I(t)\\n\",\n",
    "    keyz = [lower, upper]\n",
    "    It = get_max_key(beta_dict, keyz)\n",
    "    It.pull()\n",
    "    return Jt, bkt_dict\n"
   ]
  },
  {
   "cell_type": "code",
   "execution_count": 28,
   "metadata": {},
   "outputs": [
    {
     "name": "stdout",
     "output_type": "stream",
     "text": [
      "113\n",
      "website: 111, num: 129, average: 0.6356589147286822\n",
      "website: 112, num: 129, average: 0.4806201550387597\n",
      "website: 113, num: 129, average: 0.689922480620155\n"
     ]
    }
   ],
   "source": [
    "def UGapEb(data, m, budget, a):\n",
    "    K = len(data)\n",
    "    ## Initialise\n",
    "    for arm_name in data.keys():\n",
    "        data[arm_name].pull()\n",
    "    ## Main loop\n",
    "    Jt = ''\n",
    "    bkt_dict = ''\n",
    "    for t in range(K+1,budget):\n",
    "        current_arms = [data[arm_name] for arm_name in data.keys()]\n",
    "        Jt, bkt_dict = select_arm(current_arms, m, a)\n",
    "    return get_min_key(bkt_dict, Jt)\n",
    "    \n",
    "print(UGapEb(data, 1, 100, 0.1).name)\n",
    "\n",
    "for website in data.keys():\n",
    "    print(\n",
    "        f'website: {data[website].name}, num: {data[website].num}, average: {data[website].average}')\n",
    "    \n"
   ]
  },
  {
   "cell_type": "code",
   "execution_count": 36,
   "metadata": {},
   "outputs": [],
   "source": [
    "def UGapEc(data, e, m, delta, c):\n",
    "    K = len(data)\n",
    "    \n",
    "    ## Initialise arms\n",
    "    for arm_name in data.keys():\n",
    "        data[arm_name].pull()\n",
    "\n",
    "    Jt = '111'\n",
    "    Bkt_dict = {Jt:1}\n",
    "    t = K + 1\n",
    "    while (Bkt_dict[Jt] >= e):\n",
    "        current_arms = [data[arm_name] for arm_name in data.keys()]\n",
    "        a = c * log((4*K*(t**3))/delta)\n",
    "        Jt, Bkt_dict = select_arm(current_arms, m, a)\n",
    "        t += 1\n",
    "\n",
    "    return Jt"
   ]
  },
  {
   "cell_type": "code",
   "execution_count": 37,
   "metadata": {},
   "outputs": [
    {
     "ename": "IndexError",
     "evalue": "list index out of range",
     "output_type": "error",
     "traceback": [
      "\u001b[0;31m---------------------------------------------------------------------------\u001b[0m",
      "\u001b[0;31mIndexError\u001b[0m                                Traceback (most recent call last)",
      "\u001b[0;32m<ipython-input-37-8eac2979a843>\u001b[0m in \u001b[0;36m<module>\u001b[0;34m\u001b[0m\n\u001b[0;32m----> 1\u001b[0;31m \u001b[0mprint\u001b[0m\u001b[0;34m(\u001b[0m\u001b[0mUGapEc\u001b[0m\u001b[0;34m(\u001b[0m\u001b[0mdata\u001b[0m\u001b[0;34m,\u001b[0m \u001b[0;36m0.6\u001b[0m\u001b[0;34m,\u001b[0m \u001b[0;36m100\u001b[0m\u001b[0;34m,\u001b[0m \u001b[0;36m0.9\u001b[0m\u001b[0;34m,\u001b[0m \u001b[0;36m0.5\u001b[0m\u001b[0;34m)\u001b[0m\u001b[0;34m.\u001b[0m\u001b[0mname\u001b[0m\u001b[0;34m)\u001b[0m\u001b[0;34m\u001b[0m\u001b[0;34m\u001b[0m\u001b[0m\n\u001b[0m",
      "\u001b[0;32m<ipython-input-36-dd235be54674>\u001b[0m in \u001b[0;36mUGapEc\u001b[0;34m(data, e, m, delta, c)\u001b[0m\n\u001b[1;32m     12\u001b[0m         \u001b[0mcurrent_arms\u001b[0m \u001b[0;34m=\u001b[0m \u001b[0;34m[\u001b[0m\u001b[0mdata\u001b[0m\u001b[0;34m[\u001b[0m\u001b[0marm_name\u001b[0m\u001b[0;34m]\u001b[0m \u001b[0;32mfor\u001b[0m \u001b[0marm_name\u001b[0m \u001b[0;32min\u001b[0m \u001b[0mdata\u001b[0m\u001b[0;34m.\u001b[0m\u001b[0mkeys\u001b[0m\u001b[0;34m(\u001b[0m\u001b[0;34m)\u001b[0m\u001b[0;34m]\u001b[0m\u001b[0;34m\u001b[0m\u001b[0;34m\u001b[0m\u001b[0m\n\u001b[1;32m     13\u001b[0m         \u001b[0ma\u001b[0m \u001b[0;34m=\u001b[0m \u001b[0mc\u001b[0m \u001b[0;34m*\u001b[0m \u001b[0mlog\u001b[0m\u001b[0;34m(\u001b[0m\u001b[0;34m(\u001b[0m\u001b[0;36m4\u001b[0m\u001b[0;34m*\u001b[0m\u001b[0mK\u001b[0m\u001b[0;34m*\u001b[0m\u001b[0;34m(\u001b[0m\u001b[0mt\u001b[0m\u001b[0;34m**\u001b[0m\u001b[0;36m3\u001b[0m\u001b[0;34m)\u001b[0m\u001b[0;34m)\u001b[0m\u001b[0;34m/\u001b[0m\u001b[0mdelta\u001b[0m\u001b[0;34m)\u001b[0m\u001b[0;34m\u001b[0m\u001b[0;34m\u001b[0m\u001b[0m\n\u001b[0;32m---> 14\u001b[0;31m         \u001b[0mJt\u001b[0m\u001b[0;34m,\u001b[0m \u001b[0mBkt_dict\u001b[0m \u001b[0;34m=\u001b[0m \u001b[0mselect_arm\u001b[0m\u001b[0;34m(\u001b[0m\u001b[0mcurrent_arms\u001b[0m\u001b[0;34m,\u001b[0m \u001b[0mm\u001b[0m\u001b[0;34m,\u001b[0m \u001b[0ma\u001b[0m\u001b[0;34m)\u001b[0m\u001b[0;34m\u001b[0m\u001b[0;34m\u001b[0m\u001b[0m\n\u001b[0m\u001b[1;32m     15\u001b[0m         \u001b[0mt\u001b[0m \u001b[0;34m+=\u001b[0m \u001b[0;36m1\u001b[0m\u001b[0;34m\u001b[0m\u001b[0;34m\u001b[0m\u001b[0m\n\u001b[1;32m     16\u001b[0m \u001b[0;34m\u001b[0m\u001b[0m\n",
      "\u001b[0;32m<ipython-input-27-9d5f37ae48b8>\u001b[0m in \u001b[0;36mselect_arm\u001b[0;34m(current_arms, m, a)\u001b[0m\n\u001b[1;32m     46\u001b[0m         \u001b[0mupper\u001b[0m \u001b[0;34m=\u001b[0m \u001b[0mget_max_key\u001b[0m\u001b[0;34m(\u001b[0m\u001b[0mbeta_dict\u001b[0m\u001b[0;34m,\u001b[0m \u001b[0mcontenders\u001b[0m\u001b[0;34m)\u001b[0m\u001b[0;34m\u001b[0m\u001b[0;34m\u001b[0m\u001b[0m\n\u001b[1;32m     47\u001b[0m     \u001b[0;32melse\u001b[0m\u001b[0;34m:\u001b[0m\u001b[0;34m\u001b[0m\u001b[0;34m\u001b[0m\u001b[0m\n\u001b[0;32m---> 48\u001b[0;31m         \u001b[0mupper\u001b[0m \u001b[0;34m=\u001b[0m \u001b[0mcontenders\u001b[0m\u001b[0;34m[\u001b[0m\u001b[0;36m0\u001b[0m\u001b[0;34m]\u001b[0m\u001b[0;34m\u001b[0m\u001b[0;34m\u001b[0m\u001b[0m\n\u001b[0m\u001b[1;32m     49\u001b[0m     \u001b[0;31m# Identify and pull arm I(t)\\n\",\u001b[0m\u001b[0;34m\u001b[0m\u001b[0;34m\u001b[0m\u001b[0;34m\u001b[0m\u001b[0m\n\u001b[1;32m     50\u001b[0m     \u001b[0mkeyz\u001b[0m \u001b[0;34m=\u001b[0m \u001b[0;34m[\u001b[0m\u001b[0mlower\u001b[0m\u001b[0;34m,\u001b[0m \u001b[0mupper\u001b[0m\u001b[0;34m]\u001b[0m\u001b[0;34m\u001b[0m\u001b[0;34m\u001b[0m\u001b[0m\n",
      "\u001b[0;31mIndexError\u001b[0m: list index out of range"
     ]
    }
   ],
   "source": [
    "print(UGapEc(data, 0.6, 100, 0.9, 0.5).name)"
   ]
  },
  {
   "cell_type": "code",
   "execution_count": null,
   "metadata": {},
   "outputs": [],
   "source": []
  },
  {
   "cell_type": "code",
   "execution_count": null,
   "metadata": {},
   "outputs": [],
   "source": []
  }
 ],
 "metadata": {
  "interpreter": {
   "hash": "b0fa6594d8f4cbf19f97940f81e996739fb7646882a419484c72d19e05852a7e"
  },
  "kernelspec": {
   "display_name": "Python 3.9.9 64-bit",
   "language": "python",
   "name": "python3"
  },
  "language_info": {
   "codemirror_mode": {
    "name": "ipython",
    "version": 3
   },
   "file_extension": ".py",
   "mimetype": "text/x-python",
   "name": "python",
   "nbconvert_exporter": "python",
   "pygments_lexer": "ipython3",
   "version": "3.9.9"
  },
  "orig_nbformat": 4
 },
 "nbformat": 4,
 "nbformat_minor": 2
}
