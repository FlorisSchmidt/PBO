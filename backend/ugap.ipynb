{
 "cells": [
  {
   "cell_type": "code",
   "execution_count": 15,
   "metadata": {},
   "outputs": [],
   "source": [
    "import data_gen as gen\n",
    "from typing import List\n",
    "from math import sqrt, log, pow, inf"
   ]
  },
  {
   "cell_type": "code",
   "execution_count": 16,
   "metadata": {},
   "outputs": [
    {
     "data": {
      "text/plain": [
       "{'111': <data_gen.Website at 0x107921790>,\n",
       " '112': <data_gen.Website at 0x1181caa00>,\n",
       " '113': <data_gen.Website at 0x107532b20>,\n",
       " '122': <data_gen.Website at 0x107532850>,\n",
       " '123': <data_gen.Website at 0x107532af0>}"
      ]
     },
     "execution_count": 16,
     "metadata": {},
     "output_type": "execute_result"
    }
   ],
   "source": [
    "budget = 50000\n",
    "website_list = [\"111\",\"112\",\"113\",\"122\",\"123\"]\n",
    "data = gen.generate_data(budget, website_list, 0.1, 0.3, 0.01)\n",
    "data\n"
   ]
  },
  {
   "cell_type": "code",
   "execution_count": 80,
   "metadata": {},
   "outputs": [
    {
     "name": "stdout",
     "output_type": "stream",
     "text": [
      "31305\n",
      "31763\n",
      "31239\n",
      "33619\n",
      "32422\n"
     ]
    }
   ],
   "source": [
    "arms = [data[arm_name] for arm_name in data.keys()]\n",
    "print(sum(arms[0].realisations))\n",
    "print(sum(arms[1].realisations))\n",
    "print(sum(arms[2].realisations))\n",
    "print(sum(arms[3].realisations))\n",
    "print(sum(arms[4].realisations))"
   ]
  },
  {
   "cell_type": "code",
   "execution_count": 45,
   "metadata": {},
   "outputs": [],
   "source": [
    "def calc_beta(arm, a):\n",
    "    return sqrt(a/arm.num)"
   ]
  },
  {
   "cell_type": "code",
   "execution_count": 46,
   "metadata": {},
   "outputs": [],
   "source": [
    "def get_max_key(input_dict,keys):\n",
    "    new_dict = dict()\n",
    "    for item in keys:\n",
    "        new_dict[item] = input_dict[item]\n",
    "    return max(new_dict, key=new_dict.get)\n",
    "\n",
    "\n",
    "def get_min_key(input_dict, keys):\n",
    "    new_dict = dict()\n",
    "    for item in keys:\n",
    "        new_dict[item] = input_dict[item]\n",
    "    return min(new_dict, key=new_dict.get)\n"
   ]
  },
  {
   "cell_type": "code",
   "execution_count": 14,
   "metadata": {},
   "outputs": [],
   "source": [
    "def select_arm(current_arms, m, a):   \n",
    "    current_arms = [data[arm_name] for arm_name in data.keys()]\n",
    "\n",
    "    ukt_dict = dict()\n",
    "    lkt_dict = dict()\n",
    "    bkt_dict = dict()\n",
    "    beta_dict = dict()\n",
    "    # Compute Uk(t) and Lk(t) for each arm\\n\",\n",
    "    for k in current_arms:\n",
    "        beta_dict[k] = calc_beta(k, a)\n",
    "        ukt = k.last_average + beta_dict[k]\n",
    "        lkt = k.last_average - beta_dict[k]\n",
    "        ukt_dict[k] = ukt\n",
    "        lkt_dict[k] = lkt\n",
    "    # Compute Bk(t) for each arm\\n\",\n",
    "    for k in current_arms:\n",
    "        ukt_dict_subset = ukt_dict.copy()\n",
    "        ukt_dict_subset.pop(k)\n",
    "        max_ukt = max(ukt_dict_subset, key=ukt_dict_subset.get)\n",
    "        bkt = ukt_dict[max_ukt] - lkt_dict[k]\n",
    "        bkt_dict[k] = bkt\n",
    "\n",
    "    # Identify the set of m arms J(t)\\n\",\n",
    "    bkt_dict_sorted = dict(sorted(bkt_dict.items(), key=lambda item: item[1]))\n",
    "    Jt = set(list(bkt_dict_sorted.keys())[:m])\n",
    "\n",
    "    # Identify arm with minimum lower bound in J(t)\\n\",\n",
    "    lowest = inf\n",
    "    contenders = []\n",
    "    for arm in Jt:\n",
    "        if lkt_dict[arm] <= lowest:\n",
    "            contenders.append(arm)\n",
    "    if len(contenders) > 1:\n",
    "        lower = get_min_key(beta_dict, contenders)\n",
    "    else:\n",
    "        lower = contenders[0]\n",
    "    # Identify arm with maximum upper bound *not* in J(t)\\n\",\n",
    "    not_in_jt = list(set(ukt_dict.keys()) - Jt)\n",
    "    highest = -inf\n",
    "    contenders = []\n",
    "    for arm in not_in_jt:\n",
    "        if ukt_dict[arm] >= highest:\n",
    "            contenders.append(arm)\n",
    "    if len(contenders) > 1:\n",
    "        upper = get_max_key(beta_dict, contenders)\n",
    "    else:\n",
    "        upper = contenders[0]\n",
    "    # Identify and pull arm I(t)\n",
    "    keyz = [lower, upper]\n",
    "    It = get_max_key(beta_dict, keyz)\n",
    "    It.pull()\n",
    "\n",
    "    return Jt, bkt_dict\n"
   ]
  },
  {
   "cell_type": "code",
   "execution_count": 81,
   "metadata": {},
   "outputs": [
    {
     "name": "stdout",
     "output_type": "stream",
     "text": [
      "122\n",
      "website: 111, num: 9, average: 0.7777777777777778\n",
      "website: 112, num: 1663, average: 0.6386049308478653\n",
      "website: 113, num: 1663, average: 0.6193625977149729\n",
      "website: 122, num: 2, average: 1.0\n",
      "website: 123, num: 1662, average: 0.6377858002406739\n"
     ]
    }
   ],
   "source": [
    "def UGapEb(data, m, budget, a):\n",
    "    K = len(data)\n",
    "    ## Initialise\n",
    "    for arm_name in data.keys():\n",
    "        data[arm_name].pull()\n",
    "    ## Main loop\n",
    "    Jt = ''\n",
    "    bkt_dict = ''\n",
    "    t = 0\n",
    "    for t in range(K+1,budget):\n",
    "        \n",
    "        current_arms = [data[arm_name] for arm_name in data.keys()]\n",
    "        Jt, bkt_dict = select_arm(current_arms, m, a)\n",
    "\n",
    "    return get_min_key(bkt_dict, Jt)\n",
    "    \n",
    "print(UGapEb(data, 3, 5000, 0.1).name)\n",
    "\n",
    "for website in data.keys():\n",
    "    print(\n",
    "        f'website: {data[website].name}, num: {data[website].num}, average: {data[website].average}')\n"
   ]
  },
  {
   "cell_type": "code",
   "execution_count": 75,
   "metadata": {},
   "outputs": [],
   "source": [
    "def UGapEc(data, e, m, delta, c):\n",
    "    K = len(data)\n",
    "    \n",
    "    ## Initialise arms\n",
    "    for arm_name in data.keys():\n",
    "        data[arm_name].pull()\n",
    "\n",
    "    ## Main loop\n",
    "    Jt = ''\n",
    "    Bkt_dict = ''\n",
    "    t = K + 1\n",
    "    stopping_criteria = True\n",
    "    while (stopping_criteria):\n",
    "        current_arms = [data[arm_name] for arm_name in data.keys()]\n",
    "\n",
    "        a = c * log((4*K*(t**3))/delta)\n",
    "        Jt, Bkt_dict = select_arm(current_arms, m, a)\n",
    "\n",
    "        key = get_max_key(Bkt_dict, Jt)\n",
    "        t += 1\n",
    "        if (Bkt_dict[key] >= e):\n",
    "            stopping_criteria = False\n",
    "        \n",
    "    return Jt"
   ]
  },
  {
   "cell_type": "code",
   "execution_count": 89,
   "metadata": {},
   "outputs": [
    {
     "name": "stdout",
     "output_type": "stream",
     "text": [
      "112\n",
      "123\n",
      "113\n"
     ]
    },
    {
     "ename": "TypeError",
     "evalue": "'set' object is not subscriptable",
     "output_type": "error",
     "traceback": [
      "\u001b[0;31m---------------------------------------------------------------------------\u001b[0m",
      "\u001b[0;31mTypeError\u001b[0m                                 Traceback (most recent call last)",
      "\u001b[0;32m<ipython-input-89-9b341a0dd4b0>\u001b[0m in \u001b[0;36m<module>\u001b[0;34m\u001b[0m\n\u001b[1;32m      4\u001b[0m \u001b[0;32mfor\u001b[0m \u001b[0marm\u001b[0m \u001b[0;32min\u001b[0m \u001b[0moptimal_arms\u001b[0m\u001b[0;34m:\u001b[0m\u001b[0;34m\u001b[0m\u001b[0;34m\u001b[0m\u001b[0m\n\u001b[1;32m      5\u001b[0m     \u001b[0mprint\u001b[0m\u001b[0;34m(\u001b[0m\u001b[0marm\u001b[0m\u001b[0;34m.\u001b[0m\u001b[0mname\u001b[0m\u001b[0;34m)\u001b[0m\u001b[0;34m\u001b[0m\u001b[0;34m\u001b[0m\u001b[0m\n\u001b[0;32m----> 6\u001b[0;31m \u001b[0mprint\u001b[0m\u001b[0;34m(\u001b[0m\u001b[0moptimal_arms\u001b[0m\u001b[0;34m[\u001b[0m\u001b[0;36m0\u001b[0m\u001b[0;34m]\u001b[0m\u001b[0;34m.\u001b[0m\u001b[0mname\u001b[0m\u001b[0;34m,\u001b[0m \u001b[0moptimal_arms\u001b[0m\u001b[0;34m[\u001b[0m\u001b[0;36m1\u001b[0m\u001b[0;34m]\u001b[0m\u001b[0;34m.\u001b[0m\u001b[0mname\u001b[0m\u001b[0;34m,\u001b[0m \u001b[0moptimal_arms\u001b[0m\u001b[0;34m[\u001b[0m\u001b[0;36m2\u001b[0m\u001b[0;34m]\u001b[0m\u001b[0;34m.\u001b[0m\u001b[0mname\u001b[0m\u001b[0;34m)\u001b[0m\u001b[0;34m\u001b[0m\u001b[0;34m\u001b[0m\u001b[0m\n\u001b[0m",
      "\u001b[0;31mTypeError\u001b[0m: 'set' object is not subscriptable"
     ]
    }
   ],
   "source": [
    "delta = 0.9\n",
    "c = 0.5\n",
    "optimal_arms = UGapEc(data, 0.6, 3, delta, c)\n",
    "for arm in optimal_arms:\n",
    "    print(arm.name)"
   ]
  },
  {
   "cell_type": "code",
   "execution_count": null,
   "metadata": {},
   "outputs": [],
   "source": []
  },
  {
   "cell_type": "code",
   "execution_count": null,
   "metadata": {},
   "outputs": [],
   "source": []
  }
 ],
 "metadata": {
  "interpreter": {
   "hash": "b0fa6594d8f4cbf19f97940f81e996739fb7646882a419484c72d19e05852a7e"
  },
  "kernelspec": {
   "display_name": "Python 3.9.9 64-bit",
   "language": "python",
   "name": "python3"
  },
  "language_info": {
   "codemirror_mode": {
    "name": "ipython",
    "version": 3
   },
   "file_extension": ".py",
   "mimetype": "text/x-python",
   "name": "python",
   "nbconvert_exporter": "python",
   "pygments_lexer": "ipython3",
   "version": "3.9.9"
  },
  "orig_nbformat": 4
 },
 "nbformat": 4,
 "nbformat_minor": 2
}
