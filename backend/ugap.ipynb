{
 "cells": [
  {
   "cell_type": "code",
   "execution_count": 1,
   "metadata": {},
   "outputs": [],
   "source": [
    "import data_gen as gen\n",
    "from typing import List\n",
    "from math import sqrt, log, pow"
   ]
  },
  {
   "cell_type": "code",
   "execution_count": 2,
   "metadata": {},
   "outputs": [
    {
     "data": {
      "text/plain": [
       "{('header_1', 'text_1', 'picture_1'): <data_gen.Website at 0x7f7e36cd8760>,\n",
       " ('header_1', 'text_1', 'picture_2'): <data_gen.Website at 0x7f7e36cd8700>}"
      ]
     },
     "execution_count": 2,
     "metadata": {},
     "output_type": "execute_result"
    }
   ],
   "source": [
    "budget = 100\n",
    "website_list = [(\"header_1\", \"text_1\", \"picture_1\"),\n",
    "                (\"header_1\", \"text_1\", \"picture_2\")]\n",
    "data = gen.generate_data(budget, website_list, 0.1, 0.3, 0.01)\n",
    "data\n"
   ]
  },
  {
   "cell_type": "code",
   "execution_count": 3,
   "metadata": {},
   "outputs": [
    {
     "data": {
      "text/plain": [
       "[<data_gen.Website at 0x7f7e36cd8760>, <data_gen.Website at 0x7f7e36cd8700>]"
      ]
     },
     "execution_count": 3,
     "metadata": {},
     "output_type": "execute_result"
    }
   ],
   "source": [
    "current_arms = [data[arm_name] for arm_name in data.keys()]\n",
    "current_arms\n"
   ]
  },
  {
   "cell_type": "code",
   "execution_count": 4,
   "metadata": {},
   "outputs": [],
   "source": [
    "def select_arm_eb(current_arms, a, t):\n",
    "    ukt_dict = dict()\n",
    "    lkt_dict = dict()\n",
    "    for k in current_arms:\n",
    "        ukt = k.last_average + calc_beta(k, a, t)\n",
    "        lkt = k.last_average - calc_beta(k, a, t)\n",
    "        ukt_dict[k] = ukt\n",
    "        lkt_dict[k] = lkt\n",
    "    max_ukt = max(ukt_dict, key=ukt_dict.get)\n",
    "    pass"
   ]
  },
  {
   "cell_type": "code",
   "execution_count": 6,
   "metadata": {},
   "outputs": [],
   "source": [
    "m = 10\n",
    "a = 0.5"
   ]
  },
  {
   "cell_type": "code",
   "execution_count": 8,
   "metadata": {},
   "outputs": [],
   "source": [
    "def calc_beta(arm, a):\n",
    "    return sqrt(a/arm.num)"
   ]
  },
  {
   "cell_type": "code",
   "execution_count": 24,
   "metadata": {},
   "outputs": [
    {
     "ename": "SyntaxError",
     "evalue": "invalid syntax (<ipython-input-24-daef9312128f>, line 26)",
     "output_type": "error",
     "traceback": [
      "\u001b[0;36m  File \u001b[0;32m\"<ipython-input-24-daef9312128f>\"\u001b[0;36m, line \u001b[0;32m26\u001b[0m\n\u001b[0;31m    max_ukt = max(ukt_dict, key={jt_key: ukt_dict[jt_key] for jt_key not in jt.keys()})\u001b[0m\n\u001b[0m                                                                     ^\u001b[0m\n\u001b[0;31mSyntaxError\u001b[0m\u001b[0;31m:\u001b[0m invalid syntax\n"
     ]
    }
   ],
   "source": [
    "current_arms = [data[arm_name] for arm_name in data.keys()]\n",
    "for arm in current_arms:\n",
    "    arm.pull()\n",
    "ukt_dict = dict()\n",
    "lkt_dict = dict()\n",
    "bkt_dict = dict()\n",
    "beta_dict = dict()\n",
    "for k in current_arms:\n",
    "    beta_dict[k] = calc_beta(k, a)\n",
    "    ukt = k.last_average + beta_dict[k]\n",
    "    lkt = k.last_average - beta_dict[k]\n",
    "    ukt_dict[k] = ukt\n",
    "    lkt_dict[k] = lkt\n",
    "for k in current_arms:\n",
    "    ukt_dict_subset = ukt_dict.copy()\n",
    "    ukt_dict_subset.pop(k)\n",
    "    max_ukt = max(ukt_dict_subset, key=ukt_dict_subset.get)\n",
    "    bkt = ukt_dict[max_ukt] - lkt_dict[k]\n",
    "    bkt_dict[k] = bkt\n",
    "\n",
    "bkt_dict_sorted = dict(sorted(bkt_dict.items(), key=lambda item: item[1]))\n",
    "jt = {k: bkt_dict_sorted[k] for k in list(bkt_dict_sorted)[:m]}\n",
    "\n",
    "\n",
    "min_lkt = min(lkt_dict, key=jt.get)\n",
    "wanted_keys = set(beta_dict.keys()) - set(jt.keys())\n",
    "tmp_dict = dict()\n",
    "for key in wanted_keys:\n",
    "    tmp_dict[key] = beta_dict[key]\n",
    "max_ukt = max(ukt_dict, key=tmp_dict.get)\n",
    "\n",
    "beta_dict[max_ukt]\n",
    "beta_dict[min_lkt]\n"
   ]
  },
  {
   "cell_type": "markdown",
   "metadata": {},
   "source": []
  },
  {
   "cell_type": "code",
   "execution_count": null,
   "metadata": {},
   "outputs": [],
   "source": [
    "def UGapEb(data, er, m, n, a):\n",
    "    k = 0\n",
    "    ## Initialise\n",
    "    for arm_name in data.keys():\n",
    "        data[arm_name].pull()\n",
    "    k += 1\n",
    "    ## Main loop\n",
    "    for t in range(1,budget):\n",
    "        current_arms = [data[arm_name] for arm_name in data.keys()]\n",
    "        select_arm(current_arms, t)\n",
    "    return 'jemoeder'\n",
    "    \n"
   ]
  }
 ],
 "metadata": {
  "interpreter": {
   "hash": "b0fa6594d8f4cbf19f97940f81e996739fb7646882a419484c72d19e05852a7e"
  },
  "kernelspec": {
   "display_name": "Python 3.9.9 64-bit",
   "language": "python",
   "name": "python3"
  },
  "language_info": {
   "codemirror_mode": {
    "name": "ipython",
    "version": 3
   },
   "file_extension": ".py",
   "mimetype": "text/x-python",
   "name": "python",
   "nbconvert_exporter": "python",
   "pygments_lexer": "ipython3",
   "version": "3.8.3"
  },
  "orig_nbformat": 4
 },
 "nbformat": 4,
 "nbformat_minor": 2
}
