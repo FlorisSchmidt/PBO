{
 "cells": [
  {
   "cell_type": "code",
   "execution_count": 1,
   "metadata": {},
   "outputs": [],
   "source": [
    "import data_gen as gen\n",
    "from typing import List\n",
    "from math import sqrt, log, pow"
   ]
  },
  {
   "cell_type": "code",
   "execution_count": 2,
   "metadata": {},
   "outputs": [
    {
     "data": {
      "text/plain": [
       "{('header_1', 'text_1', 'picture_1'): <data_gen.Website at 0x1072f6790>,\n",
       " ('header_1', 'text_1', 'picture_2'): <data_gen.Website at 0x107fccb80>}"
      ]
     },
     "execution_count": 2,
     "metadata": {},
     "output_type": "execute_result"
    }
   ],
   "source": [
    "budget = 100\n",
    "website_list = [(\"header_1\", \"text_1\", \"picture_1\"),\n",
    "                (\"header_1\", \"text_1\", \"picture_2\")]\n",
    "data = gen.generate_data(budget, website_list, 0.1, 0.3, 0.01)\n",
    "data\n"
   ]
  },
  {
   "cell_type": "code",
   "execution_count": 3,
   "metadata": {},
   "outputs": [
    {
     "data": {
      "text/plain": [
       "[<data_gen.Website at 0x1072f6790>, <data_gen.Website at 0x107fccb80>]"
      ]
     },
     "execution_count": 3,
     "metadata": {},
     "output_type": "execute_result"
    }
   ],
   "source": [
    "current_arms = [data[arm_name] for arm_name in data.keys()]\n",
    "current_arms\n"
   ]
  },
  {
   "cell_type": "code",
   "execution_count": null,
   "metadata": {},
   "outputs": [],
   "source": [
    "def select_arm_eb(current_arms, a, t):\n",
    "    ukt_dict = dict()\n",
    "    lkt_dict = dict()\n",
    "    for k in current_arms:\n",
    "        ukt = k.last_average + calc_beta(k, a, t)\n",
    "        lkt = k.last_average - calc_beta(k, a, t)\n",
    "        ukt_dict[k] = ukt\n",
    "        lkt_dict[k] = lkt\n",
    "    max_ukt = max(ukt_dict, key=ukt_dict.get)\n",
    "    pass"
   ]
  },
  {
   "cell_type": "code",
   "execution_count": 15,
   "metadata": {},
   "outputs": [
    {
     "name": "stdout",
     "output_type": "stream",
     "text": [
      "('header_1', 'text_1', 'picture_1')\n"
     ]
    }
   ],
   "source": [
    "current_arms = [data[arm_name] for arm_name in data.keys()]\n",
    "for arm in current_arms:\n",
    "    arm.pull()\n",
    "ukt_dict = dict()\n",
    "lkt_dict = dict()\n",
    "bkt_dict = dict()\n",
    "for k in current_arms:\n",
    "    ukt = k.last_average + calc_beta(k, 0.5)\n",
    "    lkt = k.last_average - calc_beta(k, 0.5)\n",
    "    ukt_dict[k] = ukt\n",
    "    lkt_dict[k] = lkt\n",
    "for k in current_arms:\n",
    "    ukt_dict_subset = ukt_dict.copy()\n",
    "    ukt_dict_subset.remove(k)\n",
    "    max_ukt = max(ukt_dict_subset, key=ukt_dict_subset.get)\n",
    "    bkt = max_ukt - lkt_dict(k)\n",
    "    bkt_dict[k] = bkt\n",
    "for i in range(keym):\n",
    "\n"
   ]
  },
  {
   "cell_type": "markdown",
   "metadata": {},
   "source": []
  },
  {
   "cell_type": "code",
   "execution_count": 12,
   "metadata": {},
   "outputs": [],
   "source": [
    "def calc_beta(arm, a):\n",
    "    return sqrt(a/arm.num)\n"
   ]
  },
  {
   "cell_type": "code",
   "execution_count": null,
   "metadata": {},
   "outputs": [],
   "source": [
    "def UGapEb(data, er, m, n, a):\n",
    "    k = 0\n",
    "    ## Initialise\n",
    "    for arm_name in data.keys():\n",
    "        data[arm_name].pull()\n",
    "    k += 1\n",
    "    ## Main loop\n",
    "    for t in range(1,budget):\n",
    "        current_arms = [data[arm_name] for arm_name in data.keys()]\n",
    "        select_arm(current_arms, t)\n",
    "    return 'jemoeder'\n",
    "    \n"
   ]
  }
 ],
 "metadata": {
  "interpreter": {
   "hash": "b0fa6594d8f4cbf19f97940f81e996739fb7646882a419484c72d19e05852a7e"
  },
  "kernelspec": {
   "display_name": "Python 3.9.9 64-bit",
   "language": "python",
   "name": "python3"
  },
  "language_info": {
   "codemirror_mode": {
    "name": "ipython",
    "version": 3
   },
   "file_extension": ".py",
   "mimetype": "text/x-python",
   "name": "python",
   "nbconvert_exporter": "python",
   "pygments_lexer": "ipython3",
   "version": "3.9.9"
  },
  "orig_nbformat": 4
 },
 "nbformat": 4,
 "nbformat_minor": 2
}
